{
 "cells": [
  {
   "cell_type": "markdown",
   "metadata": {},
   "source": [
    "# YouTube Data API (Get most disliked videos of a channel)\n",
    " \n",
    "![](https://lh3.googleusercontent.com/j2SJC1grxLdL94kX7uB9WclD_nqX49oJs3K82Tok1MaPcx4TvB2m7xmw-Ub4dvFORwPSzruQBWePxtizfuY1r3j4GQvi1G9z=s688)\n",
    "\n",
    "[console.developers.google.com](https://console.developers.google.com/cloud-resource-manager)"
   ]
  },
  {
   "cell_type": "code",
   "execution_count": 1,
   "metadata": {},
   "outputs": [],
   "source": [
    "api_key = \"xxxxxxxxxxxxxxxxxxxxxxxxxxxxxxxx\""
   ]
  },
  {
   "cell_type": "code",
   "execution_count": 2,
   "metadata": {},
   "outputs": [],
   "source": [
    "from apiclient.discovery import build"
   ]
  },
  {
   "cell_type": "code",
   "execution_count": 3,
   "metadata": {},
   "outputs": [],
   "source": [
    "youtube = build('youtube', 'v3', developerKey=api_key)"
   ]
  },
  {
   "cell_type": "code",
   "execution_count": 4,
   "metadata": {},
   "outputs": [],
   "source": [
    "def get_channel_videos(channel_id):\n",
    "    \n",
    "    # get Uploads playlist id\n",
    "    res = youtube.channels().list(id=channel_id, \n",
    "                                  part='contentDetails').execute()\n",
    "    playlist_id = res['items'][0]['contentDetails']['relatedPlaylists']['uploads']\n",
    "    \n",
    "    videos = []\n",
    "    next_page_token = None\n",
    "    \n",
    "    while 1:\n",
    "        res = youtube.playlistItems().list(playlistId=playlist_id, \n",
    "                                           part='snippet', \n",
    "                                           maxResults=50,\n",
    "                                           pageToken=next_page_token).execute()\n",
    "        videos += res['items']\n",
    "        next_page_token = res.get('nextPageToken')\n",
    "        \n",
    "        if next_page_token is None:\n",
    "            break\n",
    "    \n",
    "    return videos"
   ]
  },
  {
   "cell_type": "code",
   "execution_count": 5,
   "metadata": {},
   "outputs": [],
   "source": [
    "videos = get_channel_videos('UCHKuLpFy9q8XDp0i9WNHkDw')"
   ]
  },
  {
   "cell_type": "code",
   "execution_count": 6,
   "metadata": {},
   "outputs": [
    {
     "data": {
      "text/plain": [
       "108"
      ]
     },
     "execution_count": 6,
     "metadata": {},
     "output_type": "execute_result"
    }
   ],
   "source": [
    "len(videos)"
   ]
  },
  {
   "cell_type": "code",
   "execution_count": 7,
   "metadata": {},
   "outputs": [],
   "source": [
    "def get_videos_stats(video_ids):\n",
    "    stats = []\n",
    "    for i in range(0, len(video_ids), 50):\n",
    "        res = youtube.videos().list(id=','.join(video_ids[i:i+50]),\n",
    "                                   part='statistics').execute()\n",
    "        stats += res['items']\n",
    "        \n",
    "    return stats"
   ]
  },
  {
   "cell_type": "code",
   "execution_count": 8,
   "metadata": {},
   "outputs": [],
   "source": [
    "video_ids = list(map(lambda x:x['snippet']['resourceId']['videoId'], videos))"
   ]
  },
  {
   "cell_type": "code",
   "execution_count": 9,
   "metadata": {},
   "outputs": [],
   "source": [
    "stats = get_videos_stats(video_ids)"
   ]
  },
  {
   "cell_type": "code",
   "execution_count": 10,
   "metadata": {},
   "outputs": [
    {
     "data": {
      "text/plain": [
       "108"
      ]
     },
     "execution_count": 10,
     "metadata": {},
     "output_type": "execute_result"
    }
   ],
   "source": [
    "len(stats)"
   ]
  },
  {
   "cell_type": "code",
   "execution_count": 11,
   "metadata": {},
   "outputs": [],
   "source": [
    "most_disliked = sorted(stats, key=lambda x:int(x['statistics']['dislikeCount']), reverse=True)"
   ]
  },
  {
   "cell_type": "code",
   "execution_count": 12,
   "metadata": {
    "scrolled": false
   },
   "outputs": [
    {
     "name": "stdout",
     "output_type": "stream",
     "text": [
      "9G5vsZemFVM 15\n",
      "jWh0FaRRZC4 13\n",
      "-mJXEzSD1Ic 7\n",
      "JtKOP-ThcbU 7\n",
      "cVzOEli3zaA 6\n",
      "x2t9OqTb4kE 6\n",
      "sskRz_lsY8g 5\n",
      "95p3cVkqYHQ 4\n",
      "hk3ubc1-ZGg 4\n",
      "hSuHnuNC8L4 4\n",
      "5gR6ObKkIeY 4\n",
      "ialnWPvouZ4 4\n",
      "hgG7xyGmKb0 4\n",
      "KMB0Le9AdoY 4\n",
      "DlPTG4AkuqU 4\n",
      "GWdrL8dt1xQ 3\n",
      "OggZfhyhDos 3\n",
      "QP7pwaRA-LA 3\n",
      "2tWDA7SclXk 3\n",
      "TQHDgyQ60B0 3\n",
      "oritw8qAR1U 3\n",
      "SlrLZ1no08A 3\n",
      "ruAownOJJKA 3\n",
      "uU4pjtcbFeg 3\n",
      "yvF5v-1lh9c 3\n",
      "6i5bHQZ-c5U 2\n",
      "SpDI6-FvtJY 2\n",
      "oD4IvH-Talo 2\n",
      "2JGU9S2gCMg 2\n",
      "dTRXjoVq_RE 2\n",
      "FInLfuYzJhA 2\n",
      "ek0FYB9zXJw 2\n",
      "3aHJmbosJYs 2\n",
      "kUxEInTQUhA 2\n",
      "RGSoVGtuHuA 2\n",
      "XgohEG9fqNQ 2\n",
      "Jn3BnljMu9M 2\n",
      "kKD-4jlvsM8 2\n",
      "Lu3oIffvh7M 2\n",
      "IKRFY5uFoOQ 1\n",
      "QSwXIIkxPcQ 1\n",
      "axVcw9WWZz4 1\n",
      "f3EVLwESJss 1\n",
      "2Mk6yPMFdFA 1\n",
      "oGbX05orp2A 1\n",
      "zTHtUm4AtcA 1\n",
      "J-o99pzbBJk 1\n",
      "clT8wH_Us5g 1\n",
      "wN43Iypd_MA 1\n",
      "8GRUwftKAps 1\n",
      "_3n0AiYP5DU 1\n",
      "pHliYIPnxZU 1\n",
      "YJ1loqmAKpk 1\n",
      "cefqrkkWOnM 1\n",
      "Xhw2l-hzoKk 1\n",
      "e29Aj6tJ_5k 1\n",
      "zEv6JPtIS3U 1\n",
      "CR6yHCG9OmA 1\n",
      "lIkd_jt28i0 1\n",
      "IuwWUvBkKzQ 1\n",
      "uBHOb55-fBo 0\n",
      "sCneLptDZ4I 0\n",
      "oS5PahnKf_E 0\n",
      "Y4d7_0Tt0U0 0\n",
      "4W06lWibPyc 0\n",
      "DTco1nTTlzE 0\n",
      "oOJr7XTj-Zw 0\n",
      "rlKl2q3Vy90 0\n",
      "n3uSyqoBgQI 0\n",
      "K4aZuBeG8fU 0\n",
      "gITfjV_Tdns 0\n",
      "yDWCfEbgyBo 0\n",
      "GIywmJbGH-8 0\n",
      "EsUTO4Xzehg 0\n",
      "HRqxIizljgo 0\n",
      "fmf_y8zpOgA 0\n",
      "T4oLluJaCIE 0\n",
      "aFw8znSCqXM 0\n",
      "luMnpyKR6C0 0\n",
      "CZzFbWAljp8 0\n",
      "NcaMLIUpjbY 0\n",
      "_sS5s0Nd-qc 0\n",
      "s6C3kYCNmLc 0\n",
      "B55roI7rE_Y 0\n",
      "IIzOQhf5AKo 0\n",
      "-Zy18QEFm6s 0\n",
      "yGYMZIQQJTY 0\n",
      "z4aaSVh5r_8 0\n",
      "0y0V0ObEhoo 0\n",
      "CoZbtZJg13A 0\n",
      "wd3ZTyjknOo 0\n",
      "qbZOytnC8eI 0\n",
      "GO460-dGTdU 0\n",
      "l3FfnXFcprU 0\n",
      "vbs8_FlU63w 0\n",
      "op3tFHLbMas 0\n",
      "BX9BTQf9-Fc 0\n",
      "B7aULKpPFWg 0\n",
      "ym4V6yZh4yU 0\n",
      "j5KwP4ifHWs 0\n",
      "RzdBslEwsig 0\n",
      "LQ2hbNFOs_Q 0\n",
      "KWFsCT27SBo 0\n",
      "4-Tzxj3EIIQ 0\n",
      "dzPmX6jiuBs 0\n",
      "feJZ5gJKF0I 0\n",
      "1QAHGaw14P0 0\n",
      "L1v9LcUyVGc 0\n"
     ]
    }
   ],
   "source": [
    "for video in most_disliked:\n",
    "    print(video['id'], video['statistics']['dislikeCount'])"
   ]
  }
 ],
 "metadata": {
  "kernelspec": {
   "display_name": "Python 3",
   "language": "python",
   "name": "python3"
  },
  "language_info": {
   "codemirror_mode": {
    "name": "ipython",
    "version": 3
   },
   "file_extension": ".py",
   "mimetype": "text/x-python",
   "name": "python",
   "nbconvert_exporter": "python",
   "pygments_lexer": "ipython3",
   "version": "3.6.5"
  }
 },
 "nbformat": 4,
 "nbformat_minor": 2
}
